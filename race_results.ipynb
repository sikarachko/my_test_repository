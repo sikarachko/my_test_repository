{
 "cells": [
  {
   "cell_type": "markdown",
   "id": "00cc65ac",
   "metadata": {},
   "source": [
    "### заметки\n",
    "#### 1. В файле \"competitors2\" содержалася символ порядка байтов  \"U+FEFF\" в самом первом ключе, удалил его.\n",
    "####  2. В файле \"competitors2\" перепутаны имена и фамилии (по крайней мере в обычном понимании имен и фамилий в русском языке)  поменял местами в отсортированном файле результатов."
   ]
  },
  {
   "cell_type": "code",
   "execution_count": 1,
   "id": "5e39f51d",
   "metadata": {},
   "outputs": [],
   "source": [
    "from datetime import datetime\n",
    "import json\n",
    "\n",
    "def get_nums_and_results(file):\n",
    "    for line in file:\n",
    "        start = line.split()[-1]\n",
    "        number, _, finish = next(file).split()\n",
    "        start = datetime.strptime(start, '%H:%M:%S,%f')\n",
    "        finish = datetime.strptime(finish, '%H:%M:%S,%f')\n",
    "        result = finish - start\n",
    "        yield number, str(result)\n",
    "\n",
    "with open('results_RUN.txt', encoding='utf-8') as file:\n",
    "    sorted_nums_and_results = sorted(get_nums_and_results(file), key = lambda t: t[1])\n",
    "        \n",
    "\n",
    "with open('competitors2.json', encoding='utf-8') as file:\n",
    "    runners = json.load(file)\n",
    "\n",
    "race_results = {}\n",
    "for grade, tup in enumerate(sorted_nums_and_results,1):\n",
    "    number, result = tup \n",
    "    race_results[grade] = {\n",
    "                                'Number': number, \n",
    "                                'Name': runners[number]['Surname'], \n",
    "                                'Surname': runners[number]['Name'], \n",
    "                                'Result': result\n",
    "                            }\n",
    "\n",
    "with open('Race_results.json', 'w') as file:\n",
    "    json.dump(race_results, file, ensure_ascii=False, indent = '    ')"
   ]
  }
 ],
 "metadata": {
  "kernelspec": {
   "display_name": "Python 3 (ipykernel)",
   "language": "python",
   "name": "python3"
  },
  "language_info": {
   "codemirror_mode": {
    "name": "ipython",
    "version": 3
   },
   "file_extension": ".py",
   "mimetype": "text/x-python",
   "name": "python",
   "nbconvert_exporter": "python",
   "pygments_lexer": "ipython3",
   "version": "3.9.7"
  }
 },
 "nbformat": 4,
 "nbformat_minor": 5
}
